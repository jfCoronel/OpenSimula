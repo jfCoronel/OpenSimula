{
 "cells": [
  {
   "cell_type": "code",
   "execution_count": 11,
   "metadata": {},
   "outputs": [],
   "source": [
    "import OpenSimula.Simulation as Simulation\n",
    "\n",
    "sim = Simulation()\n",
    "pro = sim.new_project(\"Project 1\")"
   ]
  },
  {
   "cell_type": "code",
   "execution_count": 12,
   "metadata": {},
   "outputs": [
    {
     "name": "stdout",
     "output_type": "stream",
     "text": [
      "Checking project: Project 1\n",
      "ok\n",
      "Simulating Project 1: ...\n",
      "10%: N_iter: 1.00\n",
      "20%: N_iter: 1.00\n",
      "30%: N_iter: 1.00\n",
      "40%: N_iter: 1.00\n",
      "50%: N_iter: 1.00\n",
      "60%: N_iter: 1.00\n",
      "70%: N_iter: 1.00\n",
      "80%: N_iter: 1.00\n",
      "90%: N_iter: 1.00\n",
      "100%: N_iter: 1.00\n",
      "Simulation completed.\n"
     ]
    }
   ],
   "source": [
    "param = {\n",
    "    \"description\": \"Project example\",\n",
    "    \"time_step\": 60*10,\n",
    "    \"n_time_steps\": 8760*6,\n",
    "    \"initial_time\": \"01/01/2001 00:00:00\",\n",
    "    \"daylight_saving\": True\n",
    "}\n",
    "pro.set_parameters(param)\n",
    "\n",
    "working_day = pro.new_component(\"Day_schedule\",\"working_day\")\n",
    "param = {\n",
    "    \"time_steps\": [8*3600, 5*3600, 2*3600, 4*3600],\n",
    "    \"values\": [0, 100, 0, 80, 0]\n",
    "}\n",
    "working_day.set_parameters(param)\n",
    "\n",
    "holiday_day = pro.new_component(\"Day_schedule\",\"holiday_day\")\n",
    "param = {\n",
    "    \"time_steps\": [],\n",
    "    \"values\": [0]\n",
    "}\n",
    "holiday_day.set_parameters(param)\n",
    "\n",
    "week = pro.new_component(\"Week_schedule\",\"week\")\n",
    "param = {\n",
    "    \"days_schedules\": [\"working_day\",\"working_day\",\"working_day\",\"working_day\",\"working_day\",\"holiday_day\",\"holiday_day\"]\n",
    "}\n",
    "week.set_parameters(param)\n",
    "\n",
    "year = pro.new_component(\"Year_schedule\",\"year\")\n",
    "param = {\n",
    "    \"periods\": [],\n",
    "    \"weeks_schedules\": [\"week\"]\n",
    "}\n",
    "year.set_parameters(param)\n",
    "\n",
    "pro.check()\n",
    "pro.simulate()"
   ]
  },
  {
   "cell_type": "code",
   "execution_count": 17,
   "metadata": {},
   "outputs": [
    {
     "data": {
      "text/plain": [
       "{'name': <OpenSimula.Parameters.Parameter_string at 0x177377610>,\n",
       " 'description': <OpenSimula.Parameters.Parameter_string at 0x1773765d0>,\n",
       " 'type': <OpenSimula.Parameters.Parameter_string at 0x1773774d0>,\n",
       " 'periods': <OpenSimula.Parameters.Parameter_string_list at 0x177377650>,\n",
       " 'weeks_schedules': <OpenSimula.Parameters.Parameter_component_list at 0x177375490>}"
      ]
     },
     "execution_count": 17,
     "metadata": {},
     "output_type": "execute_result"
    }
   ],
   "source": [
    "comp = pro.component(\"year\")\n",
    "comp.parameter_dict()"
   ]
  },
  {
   "cell_type": "code",
   "execution_count": null,
   "metadata": {},
   "outputs": [],
   "source": [
    "import plotly.express as px\n",
    "\n",
    "datos = year.variable_dataframe()\n",
    "fig = px.bar(datos,x='date',y=['values'],height=600)\n",
    "fig.show()"
   ]
  },
  {
   "cell_type": "code",
   "execution_count": null,
   "metadata": {},
   "outputs": [],
   "source": [
    "pro.component(\"year\").parameter(\"description\").value = \"Example of year schedule\"\n",
    "pro.component(\"year\").parameter(\"description\").value\n",
    "pro.component(\"week\").parameter(\"days_schedules\").value[0]\n",
    "pro.component(\"year\").variable_dataframe()"
   ]
  }
 ],
 "metadata": {
  "kernelspec": {
   "display_name": "venv",
   "language": "python",
   "name": "python3"
  },
  "language_info": {
   "codemirror_mode": {
    "name": "ipython",
    "version": 3
   },
   "file_extension": ".py",
   "mimetype": "text/x-python",
   "name": "python",
   "nbconvert_exporter": "python",
   "pygments_lexer": "ipython3",
   "version": "3.11.4"
  },
  "orig_nbformat": 4
 },
 "nbformat": 4,
 "nbformat_minor": 2
}
