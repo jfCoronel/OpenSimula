{
 "cells": [
  {
   "cell_type": "code",
   "execution_count": 1,
   "metadata": {},
   "outputs": [
    {
     "name": "stdout",
     "output_type": "stream",
     "text": [
      "Reading project data from dictonary\n",
      "Reading completed.\n",
      "Checking project: Constructions test\n",
      "Checking completed.\n",
      "Calculating solar direct shadows ...\n",
      "Simulating Constructions test: ...\n"
     ]
    },
    {
     "name": "stderr",
     "output_type": "stream",
     "text": [
      "100%|\u001b[34m██████████\u001b[0m| 8760/8760 [00:03<00:00, 2751.55step/s, n_iter=1]\n"
     ]
    }
   ],
   "source": [
    "import OpenSimula.Simulation as Simulation\n",
    "\n",
    "time_step = 3600\n",
    "\n",
    "project_dic = {\n",
    "    \"name\": \"Constructions test\",\n",
    "    \"time_step\": time_step,\n",
    "    \"components\": [\n",
    "        {\n",
    "            \"type\": \"Material\",\n",
    "            \"name\": \"Light material\",\n",
    "            \"conductivity\": 0.03,\n",
    "            \"density\": 43,\n",
    "            \"specific_heat\": 1210,\n",
    "        },\n",
    "        {\n",
    "            \"type\": \"Material\",\n",
    "            \"name\": \"Heavy material\",\n",
    "            \"conductivity\": 1.95,\n",
    "            \"density\": 2240,\n",
    "            \"specific_heat\": 900,\n",
    "        },\n",
    "         {\n",
    "            \"type\": \"Material\",\n",
    "            \"name\": \"Gypsum board\",\n",
    "            \"conductivity\": 0.16,\n",
    "            \"density\": 800,\n",
    "            \"specific_heat\": 1090,\n",
    "        },\n",
    "        {\n",
    "            \"type\": \"Material\",\n",
    "            \"name\": \"EPS board\",\n",
    "            \"conductivity\": 0.03,\n",
    "            \"density\": 43,\n",
    "            \"specific_heat\": 1210,\n",
    "        },\n",
    "        {\n",
    "            \"type\": \"Material\",\n",
    "            \"name\": \"Heavyweight concrete\",\n",
    "            \"conductivity\": 1.95,\n",
    "            \"density\": 2240,\n",
    "            \"specific_heat\": 900,\n",
    "        },\n",
    "        {\n",
    "            \"type\": \"Material\",\n",
    "            \"name\": \"Stucco\",\n",
    "            \"conductivity\": 0.72,\n",
    "            \"density\": 1856,\n",
    "            \"specific_heat\": 840,\n",
    "        },\n",
    "        {\n",
    "            \"type\": \"Construction\",\n",
    "            \"name\": \"Light wall\",\n",
    "            \"solar_alpha\": [0.8, 0.8],\n",
    "            \"materials\": [\"Light material\"],\n",
    "            \"thicknesses\": [0.076],\n",
    "        },\n",
    "         {\n",
    "            \"type\": \"Construction\",\n",
    "            \"name\": \"Heavy wall\",\n",
    "            \"solar_alpha\": [0.8, 0.8],\n",
    "            \"materials\": [\"Heavy material\"],\n",
    "            \"thicknesses\": [0.25],\n",
    "        },\n",
    "         {\n",
    "            \"type\": \"Construction\",\n",
    "            \"name\": \"Multilayer wall\",\n",
    "            \"solar_alpha\": [0.8, 0.8],\n",
    "            \"materials\": [\n",
    "                \"Gypsum board\",\n",
    "                \"EPS board\",\n",
    "                \"Heavyweight concrete\",\n",
    "                \"EPS board\",\n",
    "                \"Stucco\",\n",
    "            ],\n",
    "            \"thicknesses\": [0.016, 0.076, 0.203, 0.076, 0.025],\n",
    "        },\n",
    "    ],\n",
    "}\n",
    "\n",
    "\n",
    "sim = Simulation()\n",
    "pro = sim.new_project(\"Constructions test\")\n",
    "pro.read_dict(project_dic)\n",
    "pro.simulate()"
   ]
  },
  {
   "cell_type": "code",
   "execution_count": 2,
   "metadata": {},
   "outputs": [
    {
     "data": {
      "text/html": [
       "<div>\n",
       "<style scoped>\n",
       "    .dataframe tbody tr th:only-of-type {\n",
       "        vertical-align: middle;\n",
       "    }\n",
       "\n",
       "    .dataframe tbody tr th {\n",
       "        vertical-align: top;\n",
       "    }\n",
       "\n",
       "    .dataframe thead th {\n",
       "        text-align: right;\n",
       "    }\n",
       "</style>\n",
       "<table border=\"1\" class=\"dataframe\">\n",
       "  <thead>\n",
       "    <tr style=\"text-align: right;\">\n",
       "      <th></th>\n",
       "      <th>name</th>\n",
       "      <th>type</th>\n",
       "      <th>description</th>\n",
       "      <th>solar_alpha</th>\n",
       "      <th>lw_epsilon</th>\n",
       "      <th>materials</th>\n",
       "      <th>thicknesses</th>\n",
       "    </tr>\n",
       "  </thead>\n",
       "  <tbody>\n",
       "    <tr>\n",
       "      <th>0</th>\n",
       "      <td>Light wall</td>\n",
       "      <td>Construction</td>\n",
       "      <td>Construction using layers of material</td>\n",
       "      <td>[0.8, 0.8]</td>\n",
       "      <td>[0.9, 0.9]</td>\n",
       "      <td>[Light material]</td>\n",
       "      <td>[0.076]</td>\n",
       "    </tr>\n",
       "    <tr>\n",
       "      <th>1</th>\n",
       "      <td>Heavy wall</td>\n",
       "      <td>Construction</td>\n",
       "      <td>Construction using layers of material</td>\n",
       "      <td>[0.8, 0.8]</td>\n",
       "      <td>[0.9, 0.9]</td>\n",
       "      <td>[Heavy material]</td>\n",
       "      <td>[0.25]</td>\n",
       "    </tr>\n",
       "    <tr>\n",
       "      <th>2</th>\n",
       "      <td>Multilayer wall</td>\n",
       "      <td>Construction</td>\n",
       "      <td>Construction using layers of material</td>\n",
       "      <td>[0.8, 0.8]</td>\n",
       "      <td>[0.9, 0.9]</td>\n",
       "      <td>[Gypsum board, EPS board, Heavyweight concrete...</td>\n",
       "      <td>[0.016, 0.076, 0.203, 0.076, 0.025]</td>\n",
       "    </tr>\n",
       "  </tbody>\n",
       "</table>\n",
       "</div>"
      ],
      "text/plain": [
       "              name          type                            description  \\\n",
       "0       Light wall  Construction  Construction using layers of material   \n",
       "1       Heavy wall  Construction  Construction using layers of material   \n",
       "2  Multilayer wall  Construction  Construction using layers of material   \n",
       "\n",
       "  solar_alpha  lw_epsilon                                          materials  \\\n",
       "0  [0.8, 0.8]  [0.9, 0.9]                                   [Light material]   \n",
       "1  [0.8, 0.8]  [0.9, 0.9]                                   [Heavy material]   \n",
       "2  [0.8, 0.8]  [0.9, 0.9]  [Gypsum board, EPS board, Heavyweight concrete...   \n",
       "\n",
       "                           thicknesses  \n",
       "0                              [0.076]  \n",
       "1                               [0.25]  \n",
       "2  [0.016, 0.076, 0.203, 0.076, 0.025]  "
      ]
     },
     "execution_count": 2,
     "metadata": {},
     "output_type": "execute_result"
    }
   ],
   "source": [
    "pro.component_dataframe(\"Construction\")"
   ]
  },
  {
   "cell_type": "code",
   "execution_count": 3,
   "metadata": {},
   "outputs": [
    {
     "name": "stdout",
     "output_type": "stream",
     "text": [
      "(np.float64(-4.4015778089497894), np.float64(-11.376897358515194), np.float64(1.2692688566554959e-06))\n"
     ]
    }
   ],
   "source": [
    "print(pro.component(\"Multilayer wall\").get_A())\n"
   ]
  },
  {
   "cell_type": "code",
   "execution_count": 4,
   "metadata": {},
   "outputs": [
    {
     "name": "stdout",
     "output_type": "stream",
     "text": [
      "5.305491452991453\n",
      "0.0006275192683808939\n",
      "0.0006275192684057966\n",
      "0.0006275192683995456\n",
      "0.0033292981151034507\n"
     ]
    }
   ],
   "source": [
    "Q_1, Q_2 =pro.component(\"Multilayer wall\").get_T_step_fluxes()\n",
    "print(pro.component(\"Multilayer wall\").thermal_resistance())\n",
    "print(sum(pro.component(\"Multilayer wall\")._coef_T_a))\n",
    "print(sum(pro.component(\"Multilayer wall\")._coef_T_b))\n",
    "print(sum(pro.component(\"Multilayer wall\")._coef_T_c))\n",
    "print(sum(pro.component(\"Multilayer wall\")._coef_Q))"
   ]
  },
  {
   "cell_type": "code",
   "execution_count": 5,
   "metadata": {},
   "outputs": [
    {
     "data": {
      "image/png": "[encoded data removed]",
      "text/plain": [
       "<Figure size 640x480 with 1 Axes>"
      ]
     },
     "metadata": {},
     "output_type": "display_data"
    }
   ],
   "source": [
    "import matplotlib.pyplot as plt\n",
    "import numpy as np\n",
    "\n",
    "fig, ax = plt.subplots()\n",
    "x = np.arange(7,step=time_step/3600)\n",
    "x\n",
    "ax.plot(x, Q_1[0:len(x)], linewidth=2.0)\n",
    "ax.plot(x, Q_2[0:len(x)], linewidth=2.0)\n",
    "plt.grid()\n",
    "plt.show()"
   ]
  }
 ],
 "metadata": {
  "kernelspec": {
   "display_name": "opensimula",
   "language": "python",
   "name": "python3"
  },
  "language_info": {
   "codemirror_mode": {
    "name": "ipython",
    "version": 3
   },
   "file_extension": ".py",
   "mimetype": "text/x-python",
   "name": "python",
   "nbconvert_exporter": "python",
   "pygments_lexer": "ipython3",
   "version": "3.13.2"
  },
  "orig_nbformat": 4
 },
 "nbformat": 4,
 "nbformat_minor": 2
}
