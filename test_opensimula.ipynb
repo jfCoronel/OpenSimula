{
 "cells": [
  {
   "cell_type": "code",
   "execution_count": 23,
   "metadata": {},
   "outputs": [],
   "source": [
    "import opensimula as oms"
   ]
  },
  {
   "cell_type": "code",
   "execution_count": 24,
   "metadata": {},
   "outputs": [
    {
     "name": "stdout",
     "output_type": "stream",
     "text": [
      "0.0.1\n"
     ]
    }
   ],
   "source": [
    "sim = oms.Simulation()\n",
    "print(sim.version)"
   ]
  },
  {
   "cell_type": "code",
   "execution_count": 25,
   "metadata": {},
   "outputs": [
    {
     "name": "stdout",
     "output_type": "stream",
     "text": [
      "Project: \n",
      "Proyecto 1 -> name: Proyecto 1\n"
     ]
    }
   ],
   "source": [
    "proyecto = oms.Project(sim)\n",
    "proyecto.set({'name': 'Proyecto 1'})\n",
    "proyecto.info()"
   ]
  },
  {
   "cell_type": "code",
   "execution_count": 26,
   "metadata": {},
   "outputs": [
    {
     "name": "stdout",
     "output_type": "stream",
     "text": [
      "Error: -200 is not at [0,inf], Material 1 -> density: 1000 [kg/m³]\n",
      "Error: 3 is not boolean, Material 1 -> simplified_definition: False\n",
      "Conductivity value: 0.4\n"
     ]
    }
   ],
   "source": [
    "mat1 = oms.Component(proyecto, \"Material\")\n",
    "mat1.set({\"name\": \"Material 1\", \"conductivity\": 0.4,\n",
    "          \"density\": -200, \"simplified_definition\": 3})\n",
    "print(f\"Conductivity value: {mat1.parameter['conductivity'].value}\") # Getting parameters"
   ]
  },
  {
   "cell_type": "code",
   "execution_count": 27,
   "metadata": {},
   "outputs": [
    {
     "name": "stdout",
     "output_type": "stream",
     "text": [
      "Material: \n",
      "Material 1 -> name: Material 1\n",
      "Material 1 -> conductivity: 0.8 [W/(m·K)]\n",
      "Material 1 -> density: 1000 [kg/m³]\n",
      "Material 1 -> specific_heat: 1000 [J/(kg·K)]\n",
      "Material 1 -> thickness: 0.1 [m]\n",
      "Material 1 -> simplified_definition: False\n",
      "Material 1 -> thermal_resistance: 1 [(m²·K)/W]\n",
      "Material 1 -> weight: 10 [kg/m²]\n"
     ]
    }
   ],
   "source": [
    "mat1.parameter['conductivity'].value = 0.8 # Changing parameters\n",
    "mat1.info()"
   ]
  }
 ],
 "metadata": {
  "kernelspec": {
   "display_name": "base",
   "language": "python",
   "name": "python3"
  },
  "language_info": {
   "codemirror_mode": {
    "name": "ipython",
    "version": 3
   },
   "file_extension": ".py",
   "mimetype": "text/x-python",
   "name": "python",
   "nbconvert_exporter": "python",
   "pygments_lexer": "ipython3",
   "version": "3.9.13"
  },
  "orig_nbformat": 4
 },
 "nbformat": 4,
 "nbformat_minor": 2
}
