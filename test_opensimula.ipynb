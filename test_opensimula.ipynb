{
 "cells": [
  {
   "cell_type": "code",
   "execution_count": 1,
   "metadata": {},
   "outputs": [],
   "source": [
    "import opensimula as oms"
   ]
  },
  {
   "cell_type": "code",
   "execution_count": 2,
   "metadata": {},
   "outputs": [
    {
     "name": "stdout",
     "output_type": "stream",
     "text": [
      "0.0.1\n"
     ]
    }
   ],
   "source": [
    "sim = oms.Simulation()\n",
    "print(sim.version)"
   ]
  },
  {
   "cell_type": "code",
   "execution_count": 3,
   "metadata": {},
   "outputs": [
    {
     "name": "stdout",
     "output_type": "stream",
     "text": [
      "Project: \n",
      "p-> name: Proyecto 1\n"
     ]
    }
   ],
   "source": [
    "proyecto = oms.Project(sim)\n",
    "proyecto.set({'name': 'Proyecto 1'})\n",
    "proyecto.info()"
   ]
  },
  {
   "cell_type": "code",
   "execution_count": 4,
   "metadata": {},
   "outputs": [
    {
     "name": "stdout",
     "output_type": "stream",
     "text": [
      "Error: -200 is not at [0,inf], density: 1000 [kg/m³]\n",
      "Error: 3 is not boolean, simplified_definition: False\n",
      "Conductivity value: 0.4\n"
     ]
    }
   ],
   "source": [
    "mat1 = oms.Component(proyecto, \"Material\")\n",
    "mat1.set({\"name\": \"Material 1\", \"conductivity\": 0.4,\n",
    "          \"density\": -200, \"simplified_definition\": 3})\n",
    "print(f\"Conductivity value: {mat1.parameter['conductivity'].value}\") # Getting parameters"
   ]
  },
  {
   "cell_type": "code",
   "execution_count": 5,
   "metadata": {},
   "outputs": [
    {
     "name": "stdout",
     "output_type": "stream",
     "text": [
      "Material: \n",
      "p-> name: Material 1\n",
      "p-> conductivity: 0.8 [W/(m·K)]\n",
      "p-> density: 1000 [kg/m³]\n",
      "p-> specific_heat: 1000 [J/(kg·K)]\n",
      "p-> thickness: 0.1 [m]\n",
      "p-> simplified_definition: False\n",
      "p-> thermal_resistance: 1 [(m²·K)/W]\n",
      "p-> weight: 10 [kg/m²]\n"
     ]
    }
   ],
   "source": [
    "mat1.parameter['conductivity'].value = 0.8 # Changing parameters\n",
    "mat1.info()"
   ]
  }
 ],
 "metadata": {
  "kernelspec": {
   "display_name": "base",
   "language": "python",
   "name": "python3"
  },
  "language_info": {
   "codemirror_mode": {
    "name": "ipython",
    "version": 3
   },
   "file_extension": ".py",
   "mimetype": "text/x-python",
   "name": "python",
   "nbconvert_exporter": "python",
   "pygments_lexer": "ipython3",
   "version": "3.9.13"
  },
  "orig_nbformat": 4
 },
 "nbformat": 4,
 "nbformat_minor": 2
}
