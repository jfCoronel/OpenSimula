{
 "cells": [
  {
   "cell_type": "code",
   "execution_count": 3,
   "metadata": {},
   "outputs": [],
   "source": [
    "import opensimula as oms"
   ]
  },
  {
   "cell_type": "code",
   "execution_count": 4,
   "metadata": {},
   "outputs": [
    {
     "name": "stdout",
     "output_type": "stream",
     "text": [
      "0.0.1\n"
     ]
    }
   ],
   "source": [
    "sim = oms.Simulation()\n",
    "print(sim.version)"
   ]
  },
  {
   "cell_type": "code",
   "execution_count": 5,
   "metadata": {},
   "outputs": [
    {
     "name": "stdout",
     "output_type": "stream",
     "text": [
      "Project: Proyecto 1\n"
     ]
    }
   ],
   "source": [
    "proyecto = oms.Project('Proyecto 1', sim)\n",
    "proyecto.info()"
   ]
  },
  {
   "cell_type": "code",
   "execution_count": 6,
   "metadata": {},
   "outputs": [
    {
     "name": "stdout",
     "output_type": "stream",
     "text": [
      "Error: -200 is not at [0,inf], density: 0 [kg/m³]\n",
      "Error: 3 is not boolean, simplified_definition: 0\n",
      "Conductivity value: 0.4\n"
     ]
    }
   ],
   "source": [
    "mat1 = oms.Component(\"Material\", \"Material 1\", proyecto)\n",
    "mat1.set({\"conductivity\": 0.4, \"density\": -200, \"simplified_definition\": 3})\n",
    "print(f\"Conductivity value: {mat1.parameter['conductivity'].value}\") # Getting parameters"
   ]
  },
  {
   "cell_type": "code",
   "execution_count": 7,
   "metadata": {},
   "outputs": [
    {
     "name": "stdout",
     "output_type": "stream",
     "text": [
      "Material: Material 1\n",
      "p-> conductivity: 0.8 [W/(m·K)]\n",
      "p-> density: 0 [kg/m³]\n",
      "p-> specific_heat: 0 [J/(kg·K)]\n",
      "p-> thickness: 0 [m]\n",
      "p-> simplified_definition: 0\n",
      "p-> thermal_resistance: 0 [(m²·K)/W]\n",
      "p-> weight: 0 [kg/m²]\n"
     ]
    }
   ],
   "source": [
    "mat1.parameter['conductivity'].value = 0.8 # Changing parameters\n",
    "mat1.info()"
   ]
  }
 ],
 "metadata": {
  "kernelspec": {
   "display_name": "base",
   "language": "python",
   "name": "python3"
  },
  "language_info": {
   "codemirror_mode": {
    "name": "ipython",
    "version": 3
   },
   "file_extension": ".py",
   "mimetype": "text/x-python",
   "name": "python",
   "nbconvert_exporter": "python",
   "pygments_lexer": "ipython3",
   "version": "3.9.13"
  },
  "orig_nbformat": 4
 },
 "nbformat": 4,
 "nbformat_minor": 2
}
