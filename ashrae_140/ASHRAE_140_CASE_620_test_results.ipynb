{
 "cells": [
  {
   "cell_type": "markdown",
   "metadata": {},
   "source": [
    "## ASHRAE 140-2023\n",
    "\n",
    "Section 7: CASE 620"
   ]
  },
  {
   "cell_type": "code",
   "execution_count": 1,
   "metadata": {},
   "outputs": [
    {
     "name": "stdout",
     "output_type": "stream",
     "text": [
      "Reading project data from file: case_620.json\n",
      "Reading completed.\n",
      "Checking project: Case 620\n",
      "ok\n"
     ]
    }
   ],
   "source": [
    "import OpenSimula as osm\n",
    "import pandas as pd\n",
    "import numpy as np\n",
    "\n",
    "sim = osm.Simulation()\n",
    "pro = sim.new_project(\"pro\")\n",
    "pro.read_json(\"case_620.json\")"
   ]
  },
  {
   "cell_type": "code",
   "execution_count": 2,
   "metadata": {},
   "outputs": [
    {
     "data": {
      "application/vnd.jupyter.widget-view+json": {
       "model_id": "559e81244f6048189e992d5aa8337a67",
       "version_major": 2,
       "version_minor": 0
      },
      "text/plain": [
       "Widget(value='<iframe src=\"http://localhost:51927/index.html?ui=P_0x172093410_0&reconnect=auto\" class=\"pyvista…"
      ]
     },
     "metadata": {},
     "output_type": "display_data"
    }
   ],
   "source": [
    "pro.component(\"Building\").draw_pyvista()"
   ]
  },
  {
   "cell_type": "code",
   "execution_count": 3,
   "metadata": {},
   "outputs": [
    {
     "name": "stdout",
     "output_type": "stream",
     "text": [
      "Simulating Case 620: 10% 20% 30% 40% 50% 60% 70% 80% 90% 100%  End\n"
     ]
    }
   ],
   "source": [
    "pro.simulate()"
   ]
  },
  {
   "cell_type": "code",
   "execution_count": 4,
   "metadata": {},
   "outputs": [
    {
     "name": "stdout",
     "output_type": "stream",
     "text": [
      "Anual Heating (MWh):  4.778127370323505\n",
      "Anual Coolling (MWh):  3.9194348884907657\n",
      "Peak Heating (kW):  3.296170798098508\n",
      "Peak Cooling (kW):  4.2423747749117275\n",
      "Peak Heating Date:  2001-12-31 23:30:00\n",
      "Peak Cooling Date:  2001-06-26 16:30:00\n"
     ]
    }
   ],
   "source": [
    "# Heating and Cooling Loads\n",
    "annual_heating = pro.component(\"space_1\").variable(\"Q_heating\").values.sum()/1e6\n",
    "annual_cooling = pro.component(\"space_1\").variable(\"Q_cooling\").values.sum()/1e6\n",
    "peak_heating = pro.component(\"space_1\").variable(\"Q_heating\").values.max()/1000\n",
    "i_peak_heating = np.argmax(pro.component(\"space_1\").variable(\"Q_heating\").values)\n",
    "peak_cooling = pro.component(\"space_1\").variable(\"Q_cooling\").values.max()/1000\n",
    "i_peak_cooling = np.argmax(pro.component(\"space_1\").variable(\"Q_cooling\").values)\n",
    "\n",
    "print(\"Anual Heating (MWh): \", annual_heating)\n",
    "print(\"Anual Coolling (MWh): \",annual_cooling)\n",
    "print(\"Peak Heating (kW): \", peak_heating)\n",
    "print(\"Peak Cooling (kW): \", peak_cooling)\n",
    "print(\"Peak Heating Date: \",pro.dates()[i_peak_heating])\n",
    "print(\"Peak Cooling Date: \",pro.dates()[i_peak_cooling])"
   ]
  },
  {
   "cell_type": "code",
   "execution_count": 5,
   "metadata": {},
   "outputs": [
    {
     "name": "stdout",
     "output_type": "stream",
     "text": [
      "Horizontal solar rad. (kWh/m²):  1670.2199999999998\n",
      "North solar rad. (kWh/m²):  478.7461667889758\n",
      "East solar rad. (kWh/m²):  1016.9676383985318\n",
      "South solar rad. (kWh/m²):  1283.0501974539516\n",
      "West solar rad. (kWh/m²):  919.7928583336316\n",
      "Window transmitted solar rad. (kWh/m²):  559.1413012525818\n"
     ]
    }
   ],
   "source": [
    "# Solar Radiation\n",
    "hor_sol_rad = pro.component(\"roof_wall\").variable(\"E_dir\").values.sum()/1000 + pro.component(\"roof_wall\").variable(\"E_dif\").values.sum()/1000\n",
    "north_sol_rad = pro.component(\"north_wall\").variable(\"E_dir\").values.sum()/1000 + pro.component(\"north_wall\").variable(\"E_dif\").values.sum()/1000\n",
    "east_sol_rad = pro.component(\"east_wall\").variable(\"E_dir\").values.sum()/1000 + pro.component(\"east_wall\").variable(\"E_dif\").values.sum()/1000\n",
    "south_sol_rad = pro.component(\"south_wall\").variable(\"E_dir\").values.sum()/1000 + pro.component(\"south_wall\").variable(\"E_dif\").values.sum()/1000\n",
    "west_sol_rad = pro.component(\"west_wall\").variable(\"E_dir\").values.sum()/1000 + pro.component(\"west_wall\").variable(\"E_dif\").values.sum()/1000\n",
    "window_trans =  pro.component(\"west_window\").variable(\"E_dir_tra\").values.sum()/1000 + pro.component(\"west_window\").variable(\"E_dif_tra\").values.sum()/1000\n",
    "\n",
    "print(\"Horizontal solar rad. (kWh/m²): \",hor_sol_rad)\n",
    "print(\"North solar rad. (kWh/m²): \", north_sol_rad)\n",
    "print(\"East solar rad. (kWh/m²): \",east_sol_rad)\n",
    "print(\"South solar rad. (kWh/m²): \",south_sol_rad)\n",
    "print(\"West solar rad. (kWh/m²): \", west_sol_rad)\n",
    "print (\"Window transmitted solar rad. (kWh/m²): \",window_trans)"
   ]
  }
 ],
 "metadata": {
  "kernelspec": {
   "display_name": "base",
   "language": "python",
   "name": "python3"
  },
  "language_info": {
   "codemirror_mode": {
    "name": "ipython",
    "version": 3
   },
   "file_extension": ".py",
   "mimetype": "text/x-python",
   "name": "python",
   "nbconvert_exporter": "python",
   "pygments_lexer": "ipython3",
   "version": "3.11.4"
  },
  "orig_nbformat": 4
 },
 "nbformat": 4,
 "nbformat_minor": 2
}
