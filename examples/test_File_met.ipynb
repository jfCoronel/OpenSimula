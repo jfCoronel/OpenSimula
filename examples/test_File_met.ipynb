{
 "cells": [
  {
   "cell_type": "code",
   "execution_count": 1,
   "metadata": {},
   "outputs": [
    {
     "name": "stdout",
     "output_type": "stream",
     "text": [
      "Reading project data from dictonary\n",
      "Reading completed.\n",
      "Checking project: Project_test_met\n",
      "Error in component: denver, could not open/read file: met_files/WD100.tmy3\n",
      "Simulating Project_test_met: "
     ]
    },
    {
     "ename": "ValueError",
     "evalue": "Partial pressure of water vapor is outside range of validity of equations",
     "output_type": "error",
     "traceback": [
      "\u001b[0;31m---------------------------------------------------------------------------\u001b[0m",
      "\u001b[0;31mValueError\u001b[0m                                Traceback (most recent call last)",
      "Cell \u001b[0;32mIn[1], line 19\u001b[0m\n\u001b[1;32m     17\u001b[0m proyecto \u001b[38;5;241m=\u001b[39m oms\u001b[38;5;241m.\u001b[39mProject(\u001b[38;5;124m\"\u001b[39m\u001b[38;5;124mproyecto\u001b[39m\u001b[38;5;124m\"\u001b[39m,sim)\n\u001b[1;32m     18\u001b[0m proyecto\u001b[38;5;241m.\u001b[39mread_dict(project_dic)\n\u001b[0;32m---> 19\u001b[0m \u001b[43mproyecto\u001b[49m\u001b[38;5;241;43m.\u001b[39;49m\u001b[43msimulate\u001b[49m\u001b[43m(\u001b[49m\u001b[43m)\u001b[49m\n",
      "File \u001b[0;32m~/Documents/OpenSimula/src/OpenSimula/Project.py:411\u001b[0m, in \u001b[0;36mProject.simulate\u001b[0;34m(self)\u001b[0m\n\u001b[1;32m    408\u001b[0m     \u001b[38;5;28;01mif\u001b[39;00m (date \u001b[38;5;241m>\u001b[39m date_dls_start \u001b[38;5;129;01mand\u001b[39;00m date \u001b[38;5;241m<\u001b[39m date_dls_end):\n\u001b[1;32m    409\u001b[0m         daylight_saving \u001b[38;5;241m=\u001b[39m \u001b[38;5;28;01mTrue\u001b[39;00m\n\u001b[0;32m--> 411\u001b[0m \u001b[38;5;28;43mself\u001b[39;49m\u001b[38;5;241;43m.\u001b[39;49m\u001b[43m_pre_iteration_\u001b[49m\u001b[43m(\u001b[49m\u001b[43mi\u001b[49m\u001b[43m,\u001b[49m\u001b[43m \u001b[49m\u001b[43mdate\u001b[49m\u001b[43m,\u001b[49m\u001b[43m \u001b[49m\u001b[43mdaylight_saving\u001b[49m\u001b[43m)\u001b[49m\n\u001b[1;32m    412\u001b[0m converge \u001b[38;5;241m=\u001b[39m \u001b[38;5;28;01mFalse\u001b[39;00m\n\u001b[1;32m    413\u001b[0m n_iter \u001b[38;5;241m=\u001b[39m \u001b[38;5;241m0\u001b[39m\n",
      "File \u001b[0;32m~/Documents/OpenSimula/src/OpenSimula/Project.py:434\u001b[0m, in \u001b[0;36mProject._pre_iteration_\u001b[0;34m(self, time_index, date, dayligth_saving)\u001b[0m\n\u001b[1;32m    432\u001b[0m \u001b[38;5;28;01mdef\u001b[39;00m \u001b[38;5;21m_pre_iteration_\u001b[39m(\u001b[38;5;28mself\u001b[39m, time_index, date, dayligth_saving):\n\u001b[1;32m    433\u001b[0m     \u001b[38;5;28;01mfor\u001b[39;00m comp \u001b[38;5;129;01min\u001b[39;00m \u001b[38;5;28mself\u001b[39m\u001b[38;5;241m.\u001b[39m_ordered_component_list_:\n\u001b[0;32m--> 434\u001b[0m         \u001b[43mcomp\u001b[49m\u001b[38;5;241;43m.\u001b[39;49m\u001b[43mpre_iteration\u001b[49m\u001b[43m(\u001b[49m\u001b[43mtime_index\u001b[49m\u001b[43m,\u001b[49m\u001b[43m \u001b[49m\u001b[43mdate\u001b[49m\u001b[43m,\u001b[49m\u001b[43m \u001b[49m\u001b[43mdayligth_saving\u001b[49m\u001b[43m)\u001b[49m\n",
      "File \u001b[0;32m~/Documents/OpenSimula/src/OpenSimula/components/File_met.py:165\u001b[0m, in \u001b[0;36mFile_met.pre_iteration\u001b[0;34m(self, time_index, date, daylight_saving)\u001b[0m\n\u001b[1;32m    161\u001b[0m \u001b[38;5;28mself\u001b[39m\u001b[38;5;241m.\u001b[39mvariable(\u001b[38;5;124m\"\u001b[39m\u001b[38;5;124mabs_humidity\u001b[39m\u001b[38;5;124m\"\u001b[39m)\u001b[38;5;241m.\u001b[39mvalues[time_index] \u001b[38;5;241m=\u001b[39m sicro\u001b[38;5;241m.\u001b[39mGetHumRatioFromRelHum(\n\u001b[1;32m    162\u001b[0m     T, HR, p)\u001b[38;5;241m*\u001b[39m\u001b[38;5;241m1000\u001b[39m\n\u001b[1;32m    163\u001b[0m \u001b[38;5;28mself\u001b[39m\u001b[38;5;241m.\u001b[39mvariable(\u001b[38;5;124m\"\u001b[39m\u001b[38;5;124mdew_point_temp\u001b[39m\u001b[38;5;124m\"\u001b[39m)\u001b[38;5;241m.\u001b[39mvalues[time_index] \u001b[38;5;241m=\u001b[39m sicro\u001b[38;5;241m.\u001b[39mGetTDewPointFromRelHum(\n\u001b[1;32m    164\u001b[0m     T, HR)\n\u001b[0;32m--> 165\u001b[0m \u001b[38;5;28mself\u001b[39m\u001b[38;5;241m.\u001b[39mvariable(\u001b[38;5;124m\"\u001b[39m\u001b[38;5;124mwet_bulb_temp\u001b[39m\u001b[38;5;124m\"\u001b[39m)\u001b[38;5;241m.\u001b[39mvalues[time_index] \u001b[38;5;241m=\u001b[39m \u001b[43msicro\u001b[49m\u001b[38;5;241;43m.\u001b[39;49m\u001b[43mGetTWetBulbFromRelHum\u001b[49m\u001b[43m(\u001b[49m\n\u001b[1;32m    166\u001b[0m \u001b[43m    \u001b[49m\u001b[43mT\u001b[49m\u001b[43m,\u001b[49m\u001b[43m \u001b[49m\u001b[43mHR\u001b[49m\u001b[43m,\u001b[49m\u001b[43m \u001b[49m\u001b[43mp\u001b[49m\u001b[43m)\u001b[49m\n",
      "File \u001b[0;32m~/Documents/OpenSimula/venv/lib/python3.11/site-packages/psychrolib.py:336\u001b[0m, in \u001b[0;36mGetTWetBulbFromRelHum\u001b[0;34m(TDryBulb, RelHum, Pressure)\u001b[0m\n\u001b[1;32m    333\u001b[0m     \u001b[38;5;28;01mraise\u001b[39;00m \u001b[38;5;167;01mValueError\u001b[39;00m(\u001b[38;5;124m\"\u001b[39m\u001b[38;5;124mRelative humidity is outside range [0, 1]\u001b[39m\u001b[38;5;124m\"\u001b[39m)\n\u001b[1;32m    335\u001b[0m HumRatio \u001b[38;5;241m=\u001b[39m GetHumRatioFromRelHum(TDryBulb, RelHum, Pressure)\n\u001b[0;32m--> 336\u001b[0m TWetBulb \u001b[38;5;241m=\u001b[39m \u001b[43mGetTWetBulbFromHumRatio\u001b[49m\u001b[43m(\u001b[49m\u001b[43mTDryBulb\u001b[49m\u001b[43m,\u001b[49m\u001b[43m \u001b[49m\u001b[43mHumRatio\u001b[49m\u001b[43m,\u001b[49m\u001b[43m \u001b[49m\u001b[43mPressure\u001b[49m\u001b[43m)\u001b[49m\n\u001b[1;32m    337\u001b[0m \u001b[38;5;28;01mreturn\u001b[39;00m TWetBulb\n",
      "File \u001b[0;32m~/Documents/OpenSimula/venv/lib/python3.11/site-packages/psychrolib.py:617\u001b[0m, in \u001b[0;36mGetTWetBulbFromHumRatio\u001b[0;34m(TDryBulb, HumRatio, Pressure)\u001b[0m\n\u001b[1;32m    614\u001b[0m     \u001b[38;5;28;01mraise\u001b[39;00m \u001b[38;5;167;01mValueError\u001b[39;00m(\u001b[38;5;124m\"\u001b[39m\u001b[38;5;124mHumidity ratio cannot be negative\u001b[39m\u001b[38;5;124m\"\u001b[39m)\n\u001b[1;32m    615\u001b[0m BoundedHumRatio \u001b[38;5;241m=\u001b[39m \u001b[38;5;28mmax\u001b[39m(HumRatio, MIN_HUM_RATIO)\n\u001b[0;32m--> 617\u001b[0m TDewPoint \u001b[38;5;241m=\u001b[39m \u001b[43mGetTDewPointFromHumRatio\u001b[49m\u001b[43m(\u001b[49m\u001b[43mTDryBulb\u001b[49m\u001b[43m,\u001b[49m\u001b[43m \u001b[49m\u001b[43mBoundedHumRatio\u001b[49m\u001b[43m,\u001b[49m\u001b[43m \u001b[49m\u001b[43mPressure\u001b[49m\u001b[43m)\u001b[49m\n\u001b[1;32m    619\u001b[0m \u001b[38;5;66;03m# Initial guesses\u001b[39;00m\n\u001b[1;32m    620\u001b[0m TWetBulbSup \u001b[38;5;241m=\u001b[39m TDryBulb\n",
      "File \u001b[0;32m~/Documents/OpenSimula/venv/lib/python3.11/site-packages/psychrolib.py:769\u001b[0m, in \u001b[0;36mGetTDewPointFromHumRatio\u001b[0;34m(TDryBulb, HumRatio, Pressure)\u001b[0m\n\u001b[1;32m    766\u001b[0m     \u001b[38;5;28;01mraise\u001b[39;00m \u001b[38;5;167;01mValueError\u001b[39;00m(\u001b[38;5;124m\"\u001b[39m\u001b[38;5;124mHumidity ratio cannot be negative\u001b[39m\u001b[38;5;124m\"\u001b[39m)\n\u001b[1;32m    768\u001b[0m VapPres \u001b[38;5;241m=\u001b[39m GetVapPresFromHumRatio(HumRatio, Pressure)\n\u001b[0;32m--> 769\u001b[0m TDewPoint \u001b[38;5;241m=\u001b[39m \u001b[43mGetTDewPointFromVapPres\u001b[49m\u001b[43m(\u001b[49m\u001b[43mTDryBulb\u001b[49m\u001b[43m,\u001b[49m\u001b[43m \u001b[49m\u001b[43mVapPres\u001b[49m\u001b[43m)\u001b[49m\n\u001b[1;32m    770\u001b[0m \u001b[38;5;28;01mreturn\u001b[39;00m TDewPoint\n",
      "File \u001b[0;32m~/Documents/OpenSimula/venv/lib/python3.11/site-packages/psychrolib.py:543\u001b[0m, in \u001b[0;36mGetTDewPointFromVapPres\u001b[0;34m(TDryBulb, VapPres)\u001b[0m\n\u001b[1;32m    541\u001b[0m \u001b[38;5;66;03m# Validity check -- bounds outside which a solution cannot be found\u001b[39;00m\n\u001b[1;32m    542\u001b[0m \u001b[38;5;28;01mif\u001b[39;00m VapPres \u001b[38;5;241m<\u001b[39m GetSatVapPres(BOUNDS[\u001b[38;5;241m0\u001b[39m]) \u001b[38;5;129;01mor\u001b[39;00m VapPres \u001b[38;5;241m>\u001b[39m GetSatVapPres(BOUNDS[\u001b[38;5;241m1\u001b[39m]):\n\u001b[0;32m--> 543\u001b[0m     \u001b[38;5;28;01mraise\u001b[39;00m \u001b[38;5;167;01mValueError\u001b[39;00m(\u001b[38;5;124m\"\u001b[39m\u001b[38;5;124mPartial pressure of water vapor is outside range of validity of equations\u001b[39m\u001b[38;5;124m\"\u001b[39m)\n\u001b[1;32m    545\u001b[0m \u001b[38;5;66;03m# We use NR to approximate the solution.\u001b[39;00m\n\u001b[1;32m    546\u001b[0m \u001b[38;5;66;03m# First guess\u001b[39;00m\n\u001b[1;32m    547\u001b[0m TDewPoint \u001b[38;5;241m=\u001b[39m TDryBulb        \u001b[38;5;66;03m# Calculated value of dew point temperatures, solved for iteratively\u001b[39;00m\n",
      "\u001b[0;31mValueError\u001b[0m: Partial pressure of water vapor is outside range of validity of equations"
     ]
    }
   ],
   "source": [
    "import OpenSimula as oms\n",
    "\n",
    "project_dic = {\n",
    "    \"name\": \"Project_test_met\",\n",
    "    \"time_step\": 3600,\n",
    "    \"n_time_steps\": 8760,\n",
    "    \"initial_time\": \"01/01/2001 00:00:00\",\n",
    "    \"components\": [\n",
    "        {\"type\": \"File_met\", \"name\": \"sevilla\", \"file_name\": \"met_files/sevilla.met\"},\n",
    "        {\"type\": \"File_met\",\"name\": \"denver\",\"file_type\": \"TMY3\",\"file_name\": \"met_files/WD100.tmy3\"\n",
    "        }\n",
    "    ]\n",
    "}\n",
    "\n",
    "\n",
    "sim = oms.Simulation()\n",
    "proyecto = oms.Project(\"proyecto\",sim)\n",
    "proyecto.read_dict(project_dic)\n",
    "proyecto.simulate()"
   ]
  },
  {
   "cell_type": "code",
   "execution_count": null,
   "metadata": {},
   "outputs": [],
   "source": [
    "met = proyecto.component(\"sevilla\")\n",
    "met.parameter_dataframe()"
   ]
  },
  {
   "cell_type": "code",
   "execution_count": null,
   "metadata": {},
   "outputs": [],
   "source": [
    "datos = met.variable_dataframe()\n",
    "datos.head(15)"
   ]
  },
  {
   "cell_type": "code",
   "execution_count": null,
   "metadata": {},
   "outputs": [],
   "source": [
    "import plotly.express as px\n",
    "\n",
    "fig = px.line(datos,x='date',y=['temperature [°C]', \"sky_temperature [°C]\"],height=600)\n",
    "fig.show()\n"
   ]
  }
 ],
 "metadata": {
  "kernelspec": {
   "display_name": "base",
   "language": "python",
   "name": "python3"
  },
  "language_info": {
   "codemirror_mode": {
    "name": "ipython",
    "version": 3
   },
   "file_extension": ".py",
   "mimetype": "text/x-python",
   "name": "python",
   "nbconvert_exporter": "python",
   "pygments_lexer": "ipython3",
   "version": "3.11.4"
  },
  "orig_nbformat": 4
 },
 "nbformat": 4,
 "nbformat_minor": 2
}
