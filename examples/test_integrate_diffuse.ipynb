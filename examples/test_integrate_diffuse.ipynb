{
 "cells": [
  {
   "cell_type": "code",
   "execution_count": 8,
   "metadata": {},
   "outputs": [
    {
     "name": "stdout",
     "output_type": "stream",
     "text": [
      "(0.7671731666666667, 8.51733313507926e-15) (0.1468831000000001, 1.6307299954831944e-15)\n",
      "(0.6191769343333332, 6.874244888136851e-15) (0.2118997733333334, 2.352560072675185e-15)\n"
     ]
    }
   ],
   "source": [
    "import math\n",
    "from scipy.integrate import quad\n",
    "\n",
    "def tau_integrand_simple(theta):\n",
    "    tau = 0.85*(1.3186 * math.cos(theta)**3 - 3.5251 * math.cos(theta)**2 + 3.2065 * math.cos(theta))\n",
    "    return 2*tau * math.sin(theta) * math.cos(theta)\n",
    "\n",
    "def rho_integrand_simple(theta):\n",
    "    rho = 1-(1-0.07)*(1.8562 * math.cos(theta)**3 - 4.4739 * math.cos(theta)**2 + 3.6177 * math.cos(theta))\n",
    "    return 2*rho * math.sin(theta) * math.cos(theta)\n",
    "\n",
    "def tau_integrand_double(theta):\n",
    "    tau = 0.7261*(-0.3516 * math.cos(theta)**3 - 0.6031 * math.cos(theta)**2 + 1.9424 * math.cos(theta))\n",
    "    return 2*tau * math.sin(theta) * math.cos(theta)\n",
    "\n",
    "def rho_integrand_double(theta):\n",
    "    rho = 1-(1-0.1208)*(0.9220 * math.cos(theta)**3 - 2.8551 * math.cos(theta)**2 + 2.9327 * math.cos(theta))\n",
    "    return 2*rho * math.sin(theta) * math.cos(theta)\n",
    "\n",
    "tau_integral_simple = quad(tau_integrand_simple,0,math.pi/2)\n",
    "rho_integral_simple = quad(rho_integrand_simple,0,math.pi/2)\n",
    "\n",
    "tau_integral_double = quad(tau_integrand_double,0,math.pi/2)\n",
    "rho_integral_double = quad(rho_integrand_double,0,math.pi/2)\n",
    "\n",
    "print(tau_integral_simple, rho_integral_simple)\n",
    "print(tau_integral_double, rho_integral_double)"
   ]
  }
 ],
 "metadata": {
  "kernelspec": {
   "display_name": "venv",
   "language": "python",
   "name": "python3"
  },
  "language_info": {
   "codemirror_mode": {
    "name": "ipython",
    "version": 3
   },
   "file_extension": ".py",
   "mimetype": "text/x-python",
   "name": "python",
   "nbconvert_exporter": "python",
   "pygments_lexer": "ipython3",
   "version": "3.11.4"
  }
 },
 "nbformat": 4,
 "nbformat_minor": 2
}
