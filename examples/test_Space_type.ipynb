{
 "cells": [
  {
   "cell_type": "code",
   "execution_count": 1,
   "metadata": {},
   "outputs": [
    {
     "name": "stdout",
     "output_type": "stream",
     "text": [
      "Reading project data from dictonary\n",
      "Error: Component parameter people_schedule does not exist\n",
      "Error: Component parameter light_schedule does not exist\n",
      "Reading completed.\n",
      "Checking project: First example project\n",
      "ok\n",
      "Simulating First example project: "
     ]
    },
    {
     "data": {
      "application/vnd.code.notebook.error": {
       "message": "'people_schedule'",
       "name": "KeyError",
       "stack": "\u001b[0;31m---------------------------------------------------------------------------\u001b[0m\n\u001b[0;31mKeyError\u001b[0m                                  Traceback (most recent call last)\n\u001b[1;32m/Users/jfc/Documents/OpenSimula/examples/test_schedules.ipynb Cell 1\u001b[0m line \u001b[0;36m6\n\u001b[1;32m     <a href='vscode-notebook-cell:/Users/jfc/Documents/OpenSimula/examples/test_schedules.ipynb#W0sZmlsZQ%3D%3D?line=61'>62</a>\u001b[0m pro \u001b[39m=\u001b[39m osm\u001b[39m.\u001b[39mProject(\u001b[39m\"\u001b[39m\u001b[39mpro\u001b[39m\u001b[39m\"\u001b[39m,sim)\n\u001b[1;32m     <a href='vscode-notebook-cell:/Users/jfc/Documents/OpenSimula/examples/test_schedules.ipynb#W0sZmlsZQ%3D%3D?line=62'>63</a>\u001b[0m pro\u001b[39m.\u001b[39mread_dict(project_dic)\n\u001b[0;32m---> <a href='vscode-notebook-cell:/Users/jfc/Documents/OpenSimula/examples/test_schedules.ipynb#W0sZmlsZQ%3D%3D?line=63'>64</a>\u001b[0m pro\u001b[39m.\u001b[39;49msimulate()\n\u001b[1;32m     <a href='vscode-notebook-cell:/Users/jfc/Documents/OpenSimula/examples/test_schedules.ipynb#W0sZmlsZQ%3D%3D?line=64'>65</a>\u001b[0m osm\u001b[39m.\u001b[39mVERSION\n\nFile \u001b[0;32m~/Documents/OpenSimula/src/OpenSimula/Project.py:313\u001b[0m, in \u001b[0;36mProject.simulate\u001b[0;34m(self)\u001b[0m\n\u001b[1;32m    311\u001b[0m     \u001b[39mself\u001b[39m\u001b[39m.\u001b[39m_sim_\u001b[39m.\u001b[39mprint(\u001b[39mstr\u001b[39m(\u001b[39mint\u001b[39m(show_percent)) \u001b[39m+\u001b[39m \u001b[39m\"\u001b[39m\u001b[39m%\u001b[39m\u001b[39m \u001b[39m\u001b[39m\"\u001b[39m, add_new_line\u001b[39m=\u001b[39m\u001b[39mFalse\u001b[39;00m)\n\u001b[1;32m    312\u001b[0m     show_percent \u001b[39m=\u001b[39m show_percent \u001b[39m+\u001b[39m \u001b[39m10.0\u001b[39m\n\u001b[0;32m--> 313\u001b[0m \u001b[39mself\u001b[39;49m\u001b[39m.\u001b[39;49m_pre_iteration_(i, date)\n\u001b[1;32m    314\u001b[0m converge \u001b[39m=\u001b[39m \u001b[39mFalse\u001b[39;00m\n\u001b[1;32m    315\u001b[0m \u001b[39mwhile\u001b[39;00m \u001b[39mnot\u001b[39;00m converge:\n\nFile \u001b[0;32m~/Documents/OpenSimula/src/OpenSimula/Project.py:334\u001b[0m, in \u001b[0;36mProject._pre_iteration_\u001b[0;34m(self, time_index, date)\u001b[0m\n\u001b[1;32m    332\u001b[0m \u001b[39mdef\u001b[39;00m \u001b[39m_pre_iteration_\u001b[39m(\u001b[39mself\u001b[39m, time_index, date):\n\u001b[1;32m    333\u001b[0m     \u001b[39mfor\u001b[39;00m comp \u001b[39min\u001b[39;00m \u001b[39mself\u001b[39m\u001b[39m.\u001b[39m_ordered_component_list_:\n\u001b[0;32m--> 334\u001b[0m         comp\u001b[39m.\u001b[39;49mpre_iteration(time_index, date)\n\nFile \u001b[0;32m~/Documents/OpenSimula/src/OpenSimula/components/Space_type.py:38\u001b[0m, in \u001b[0;36mSpace_type.pre_iteration\u001b[0;34m(self, time_index, date)\u001b[0m\n\u001b[1;32m     36\u001b[0m \u001b[39mdef\u001b[39;00m \u001b[39mpre_iteration\u001b[39m(\u001b[39mself\u001b[39m, time_index, date):\n\u001b[1;32m     37\u001b[0m     \u001b[39m# People\u001b[39;00m\n\u001b[0;32m---> 38\u001b[0m     \u001b[39mif\u001b[39;00m \u001b[39mself\u001b[39;49m\u001b[39m.\u001b[39;49mparameter(\u001b[39m\"\u001b[39;49m\u001b[39mpeople_schedule\u001b[39;49m\u001b[39m\"\u001b[39;49m)\u001b[39m.\u001b[39mvalue \u001b[39m==\u001b[39m \u001b[39m\"\u001b[39m\u001b[39mnot_defined\u001b[39m\u001b[39m\"\u001b[39m:\n\u001b[1;32m     39\u001b[0m         people \u001b[39m=\u001b[39m \u001b[39m1\u001b[39m\n\u001b[1;32m     40\u001b[0m     \u001b[39melse\u001b[39;00m:\n\nFile \u001b[0;32m~/Documents/OpenSimula/src/OpenSimula/Parameter_container.py:33\u001b[0m, in \u001b[0;36mParameter_container.parameter\u001b[0;34m(self, key)\u001b[0m\n\u001b[1;32m     32\u001b[0m \u001b[39mdef\u001b[39;00m \u001b[39mparameter\u001b[39m(\u001b[39mself\u001b[39m, key):\n\u001b[0;32m---> 33\u001b[0m     \u001b[39mreturn\u001b[39;00m \u001b[39mself\u001b[39;49m\u001b[39m.\u001b[39;49m_parameters_[key]\n\n\u001b[0;31mKeyError\u001b[0m: 'people_schedule'"
      }
     },
     "execution_count": 1,
     "metadata": {},
     "output_type": "execute_result"
    }
   ],
   "source": [
    "import OpenSimula as osm\n",
    "\n",
    "project_dic = {\n",
    "    \"name\": \"First example project\",\n",
    "    \"time_step\": 3600,\n",
    "    \"n_time_steps\": 8760,\n",
    "    \"initial_time\": \"01/01/2001 00:00:00\",\n",
    "    \"components\": [\n",
    "        {\n",
    "            \"type\": \"Day_schedule\",\n",
    "            \"name\": \"working_day\",\n",
    "            \"time_steps\": [28800, 18000, 7200, 14400],\n",
    "            \"values\": [0, 1, 0, 0.8, 0],\n",
    "            \"interpolation\": \"STEP\",\n",
    "        },\n",
    "        {\n",
    "            \"type\": \"Day_schedule\",\n",
    "            \"name\": \"holiday_day\",\n",
    "            \"time_steps\": [],\n",
    "            \"values\": [0],\n",
    "            \"interpolation\": \"STEP\",\n",
    "        },\n",
    "        {\n",
    "            \"type\": \"Week_schedule\",\n",
    "            \"name\": \"working_week\",\n",
    "            \"days_schedules\": [\n",
    "                \"working_day\",\n",
    "                \"working_day\",\n",
    "                \"working_day\",\n",
    "                \"working_day\",\n",
    "                \"working_day\",\n",
    "                \"holiday_day\",\n",
    "                \"holiday_day\",\n",
    "            ],\n",
    "        },\n",
    "        {\n",
    "            \"type\": \"Week_schedule\",\n",
    "            \"name\": \"holiday_week\",\n",
    "            \"days_schedules\": [\"holiday_day\"],\n",
    "        },\n",
    "        {\n",
    "            \"type\": \"Year_schedule\",\n",
    "            \"name\": \"year_schedule\",\n",
    "            \"periods\": [\"01/08\", \"01/09\"],\n",
    "            \"weeks_schedules\": [\"working_week\", \"holiday_week\", \"working_week\"],\n",
    "        },\n",
    "        {\n",
    "            \"type\": \"Space_type\",\n",
    "            \"name\": \"offices\",\n",
    "            \"people_density\": 10,\n",
    "            \"people_sensible\": 50,\n",
    "            \"people_latent\": 25,\n",
    "            \"people_schedule\": \"year_schedule\",\n",
    "            \"light_density\": 15,\n",
    "            \"light_schedule\": \"year_schedule\",\n",
    "            \"other_gains_density\": 20,\n",
    "        },\n",
    "    ],\n",
    "}\n",
    "\n",
    "sim = osm.Simulation()\n",
    "pro = osm.Project(\"pro\",sim)\n",
    "pro.read_dict(project_dic)\n",
    "pro.simulate()\n",
    "osm.VERSION"
   ]
  },
  {
   "cell_type": "code",
   "execution_count": null,
   "metadata": {},
   "outputs": [],
   "source": [
    "pro.component(\"offices\").parameter_dataframe()"
   ]
  },
  {
   "cell_type": "code",
   "execution_count": null,
   "metadata": {},
   "outputs": [],
   "source": [
    "variables = pro.component(\"offices\").variable_dataframe()\n",
    "variables"
   ]
  },
  {
   "cell_type": "code",
   "execution_count": null,
   "metadata": {},
   "outputs": [],
   "source": [
    "import plotly.express as px\n",
    "\n",
    "fig = px.line(variables,x='date',y=['other_gains_convective [W/m²]','light_radiant [W/m²]'],height=600)\n",
    "fig.show()\n"
   ]
  }
 ],
 "metadata": {
  "kernelspec": {
   "display_name": "base",
   "language": "python",
   "name": "python3"
  },
  "language_info": {
   "codemirror_mode": {
    "name": "ipython",
    "version": 3
   },
   "file_extension": ".py",
   "mimetype": "text/x-python",
   "name": "python",
   "nbconvert_exporter": "python",
   "pygments_lexer": "ipython3",
   "version": "3.11.4"
  },
  "orig_nbformat": 4
 },
 "nbformat": 4,
 "nbformat_minor": 2
}
